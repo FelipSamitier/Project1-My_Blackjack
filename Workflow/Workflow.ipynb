{
 "cells": [
  {
   "cell_type": "markdown",
   "metadata": {},
   "source": [
    "# Workflow"
   ]
  },
  {
   "cell_type": "markdown",
   "metadata": {},
   "source": [
    "Se reparten dos cartas aleatorias al jugador y dos cartas aleatorias al dealer. El orden es una para el jugador, una para\n",
    "el dealer, una para el jugador, una para el dealer\n",
    "\n",
    "Definimos la deck a utilizar y la multiplicamos por 4 (los 4 palos de la baraja)\n",
    "\n",
    "    deck .... \n",
    "\n",
    "Cogemos posiciones random de la lista deck\n",
    "\n",
    "    rd.sample ....\n",
    "\n",
    "Asignamos las cartas del jugador y del dealer\n",
    "\n",
    "    mano del jugador = .... (Posicion 0 y 2 de la deck!)\n",
    "    mano del dealer = ... (Posicion 1 y 3 de la deck!)\n",
    "    \n",
    "Sumar numero de cartas del jugador\n",
    "\n",
    "    suma mano del jugador = sum....\n",
    "    \n",
    "   Le preguntamos al jugador si se quiere plantar o quiere una carta\n",
    "   \n",
    "    input(\"Otra carta o te plantas?\")\n",
    "   \n",
    "    Estado 1 - Elige otra carta (variable_input = ....)\n",
    "    \n",
    "        sum(mano del jugador) = ....\n",
    "        \n",
    "        Comprobamos que no es = 21 if sum(mano del jugador) ....\n",
    "        \n",
    "        Se reparte carta y sumanos el total de las cartas\n",
    "                    \n",
    "             Estado 1.1 - Si es 21 ha ganado (variable = 0)\n",
    "                    \n",
    "                        -if variable ... = 0\n",
    "                    \n",
    "                        - Preguntar volver a jugar\n",
    "                    \n",
    "             Estado 1.2 - Si es mas de 21 ha perdido (variable = 1)\n",
    "                    \n",
    "                        - if variable.... = 1\n",
    "                    \n",
    "                        - Preguntar volver a jugar\n",
    "             \n",
    "             Estado 1.3 - Si es menor a 21 volver a preguntar si quiere otra carta o se planta(input...) (variable = 0)\n",
    "                    \n",
    "                        - if variable.... =0 \n",
    "                        \n",
    "                        - Volver a iterar si quiere otra carta volvemos al estado 1\n",
    "                        \n",
    "                        - Preguntar si se quiere plantar\n",
    "                        \n",
    "        \n",
    "    Estado 2 - Se planta\n",
    "\n",
    "        - comparamos la suma de las dos manos\n",
    "        \n",
    "        - Pasamos a la mano del dealer, el dealer robará hasta ganar o pasar 21\n",
    "        \n",
    "            Estado 2.1 - La suma de la mano es > 21 gana usuario (if dealer_hand > 21....)\n",
    "            \n",
    "                       - Preguntar volver a jugar\n",
    "            \n",
    "            Estado 2.2 - La suma de la mano es = 21 gana dealer (if dealer_hand == 21....)\n",
    "            \n",
    "                       - Preguntar volver a jugar\n",
    "            \n",
    "            Estado 2.3 - la suma de la mano del repartido es < 21 pero mas que la suma del jugador\n",
    "            \n",
    "                       - Preguntar volver a jugar                  \n",
    "                    \n",
    "                    "
   ]
  }
 ],
 "metadata": {
  "kernelspec": {
   "display_name": "Python 3",
   "language": "python",
   "name": "python3"
  },
  "language_info": {
   "codemirror_mode": {
    "name": "ipython",
    "version": 3
   },
   "file_extension": ".py",
   "mimetype": "text/x-python",
   "name": "python",
   "nbconvert_exporter": "python",
   "pygments_lexer": "ipython3",
   "version": "3.8.5"
  },
  "varInspector": {
   "cols": {
    "lenName": 16,
    "lenType": 16,
    "lenVar": 40
   },
   "kernels_config": {
    "python": {
     "delete_cmd_postfix": "",
     "delete_cmd_prefix": "del ",
     "library": "var_list.py",
     "varRefreshCmd": "print(var_dic_list())"
    },
    "r": {
     "delete_cmd_postfix": ") ",
     "delete_cmd_prefix": "rm(",
     "library": "var_list.r",
     "varRefreshCmd": "cat(var_dic_list()) "
    }
   },
   "types_to_exclude": [
    "module",
    "function",
    "builtin_function_or_method",
    "instance",
    "_Feature"
   ],
   "window_display": false
  }
 },
 "nbformat": 4,
 "nbformat_minor": 4
}
